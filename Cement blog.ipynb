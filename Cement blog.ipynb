{
 "cells": [
  {
   "cell_type": "code",
   "execution_count": 1,
   "metadata": {
    "collapsed": true
   },
   "outputs": [],
   "source": [
    "url = \"http://archive.ics.uci.edu/ml/machine-learning-databases/concrete/compressive/Concrete_Data.xls\""
   ]
  },
  {
   "cell_type": "code",
   "execution_count": 2,
   "metadata": {},
   "outputs": [
    {
     "data": {
      "text/html": [
       "<div>\n",
       "<style>\n",
       "    .dataframe thead tr:only-child th {\n",
       "        text-align: right;\n",
       "    }\n",
       "\n",
       "    .dataframe thead th {\n",
       "        text-align: left;\n",
       "    }\n",
       "\n",
       "    .dataframe tbody tr th {\n",
       "        vertical-align: top;\n",
       "    }\n",
       "</style>\n",
       "<table border=\"1\" class=\"dataframe\">\n",
       "  <thead>\n",
       "    <tr style=\"text-align: right;\">\n",
       "      <th></th>\n",
       "      <th>Cement (component 1)(kg in a m^3 mixture)</th>\n",
       "      <th>Blast Furnace Slag (component 2)(kg in a m^3 mixture)</th>\n",
       "      <th>Fly Ash (component 3)(kg in a m^3 mixture)</th>\n",
       "      <th>Water  (component 4)(kg in a m^3 mixture)</th>\n",
       "      <th>Superplasticizer (component 5)(kg in a m^3 mixture)</th>\n",
       "      <th>Coarse Aggregate  (component 6)(kg in a m^3 mixture)</th>\n",
       "      <th>Fine Aggregate (component 7)(kg in a m^3 mixture)</th>\n",
       "      <th>Age (day)</th>\n",
       "      <th>Concrete compressive strength(MPa, megapascals)</th>\n",
       "    </tr>\n",
       "  </thead>\n",
       "  <tbody>\n",
       "    <tr>\n",
       "      <th>0</th>\n",
       "      <td>540.0</td>\n",
       "      <td>0.0</td>\n",
       "      <td>0.0</td>\n",
       "      <td>162.0</td>\n",
       "      <td>2.5</td>\n",
       "      <td>1040.0</td>\n",
       "      <td>676.0</td>\n",
       "      <td>28</td>\n",
       "      <td>79.986111</td>\n",
       "    </tr>\n",
       "    <tr>\n",
       "      <th>1</th>\n",
       "      <td>540.0</td>\n",
       "      <td>0.0</td>\n",
       "      <td>0.0</td>\n",
       "      <td>162.0</td>\n",
       "      <td>2.5</td>\n",
       "      <td>1055.0</td>\n",
       "      <td>676.0</td>\n",
       "      <td>28</td>\n",
       "      <td>61.887366</td>\n",
       "    </tr>\n",
       "    <tr>\n",
       "      <th>2</th>\n",
       "      <td>332.5</td>\n",
       "      <td>142.5</td>\n",
       "      <td>0.0</td>\n",
       "      <td>228.0</td>\n",
       "      <td>0.0</td>\n",
       "      <td>932.0</td>\n",
       "      <td>594.0</td>\n",
       "      <td>270</td>\n",
       "      <td>40.269535</td>\n",
       "    </tr>\n",
       "    <tr>\n",
       "      <th>3</th>\n",
       "      <td>332.5</td>\n",
       "      <td>142.5</td>\n",
       "      <td>0.0</td>\n",
       "      <td>228.0</td>\n",
       "      <td>0.0</td>\n",
       "      <td>932.0</td>\n",
       "      <td>594.0</td>\n",
       "      <td>365</td>\n",
       "      <td>41.052780</td>\n",
       "    </tr>\n",
       "    <tr>\n",
       "      <th>4</th>\n",
       "      <td>198.6</td>\n",
       "      <td>132.4</td>\n",
       "      <td>0.0</td>\n",
       "      <td>192.0</td>\n",
       "      <td>0.0</td>\n",
       "      <td>978.4</td>\n",
       "      <td>825.5</td>\n",
       "      <td>360</td>\n",
       "      <td>44.296075</td>\n",
       "    </tr>\n",
       "  </tbody>\n",
       "</table>\n",
       "</div>"
      ],
      "text/plain": [
       "   Cement (component 1)(kg in a m^3 mixture)  \\\n",
       "0                                      540.0   \n",
       "1                                      540.0   \n",
       "2                                      332.5   \n",
       "3                                      332.5   \n",
       "4                                      198.6   \n",
       "\n",
       "   Blast Furnace Slag (component 2)(kg in a m^3 mixture)  \\\n",
       "0                                                0.0       \n",
       "1                                                0.0       \n",
       "2                                              142.5       \n",
       "3                                              142.5       \n",
       "4                                              132.4       \n",
       "\n",
       "   Fly Ash (component 3)(kg in a m^3 mixture)  \\\n",
       "0                                         0.0   \n",
       "1                                         0.0   \n",
       "2                                         0.0   \n",
       "3                                         0.0   \n",
       "4                                         0.0   \n",
       "\n",
       "   Water  (component 4)(kg in a m^3 mixture)  \\\n",
       "0                                      162.0   \n",
       "1                                      162.0   \n",
       "2                                      228.0   \n",
       "3                                      228.0   \n",
       "4                                      192.0   \n",
       "\n",
       "   Superplasticizer (component 5)(kg in a m^3 mixture)  \\\n",
       "0                                                2.5     \n",
       "1                                                2.5     \n",
       "2                                                0.0     \n",
       "3                                                0.0     \n",
       "4                                                0.0     \n",
       "\n",
       "   Coarse Aggregate  (component 6)(kg in a m^3 mixture)  \\\n",
       "0                                             1040.0      \n",
       "1                                             1055.0      \n",
       "2                                              932.0      \n",
       "3                                              932.0      \n",
       "4                                              978.4      \n",
       "\n",
       "   Fine Aggregate (component 7)(kg in a m^3 mixture)  Age (day)  \\\n",
       "0                                              676.0         28   \n",
       "1                                              676.0         28   \n",
       "2                                              594.0        270   \n",
       "3                                              594.0        365   \n",
       "4                                              825.5        360   \n",
       "\n",
       "   Concrete compressive strength(MPa, megapascals)   \n",
       "0                                         79.986111  \n",
       "1                                         61.887366  \n",
       "2                                         40.269535  \n",
       "3                                         41.052780  \n",
       "4                                         44.296075  "
      ]
     },
     "execution_count": 2,
     "metadata": {},
     "output_type": "execute_result"
    }
   ],
   "source": [
    "import pandas as pd\n",
    "original_data = pd.read_excel(url)\n",
    "original_data.head()"
   ]
  },
  {
   "cell_type": "code",
   "execution_count": 3,
   "metadata": {},
   "outputs": [
    {
     "data": {
      "text/plain": [
       "Index(['Cement (component 1)(kg in a m^3 mixture)',\n",
       "       'Blast Furnace Slag (component 2)(kg in a m^3 mixture)',\n",
       "       'Fly Ash (component 3)(kg in a m^3 mixture)',\n",
       "       'Water  (component 4)(kg in a m^3 mixture)',\n",
       "       'Superplasticizer (component 5)(kg in a m^3 mixture)',\n",
       "       'Coarse Aggregate  (component 6)(kg in a m^3 mixture)',\n",
       "       'Fine Aggregate (component 7)(kg in a m^3 mixture)', 'Age (day)',\n",
       "       'Concrete compressive strength(MPa, megapascals) '],\n",
       "      dtype='object')"
      ]
     },
     "execution_count": 3,
     "metadata": {},
     "output_type": "execute_result"
    }
   ],
   "source": [
    "original_data.columns"
   ]
  },
  {
   "cell_type": "code",
   "execution_count": 4,
   "metadata": {
    "collapsed": true
   },
   "outputs": [],
   "source": [
    "#rename columns for simplification\n",
    "names = ['Cement', 'Blast_Furnace','Fly_Ash','Water','Superplasticizer',\\\n",
    "         'Coarse_Aggregate','Fine_Aggregate','Age','compressive_strength']"
   ]
  },
  {
   "cell_type": "code",
   "execution_count": 5,
   "metadata": {},
   "outputs": [
    {
     "data": {
      "text/html": [
       "<div>\n",
       "<style>\n",
       "    .dataframe thead tr:only-child th {\n",
       "        text-align: right;\n",
       "    }\n",
       "\n",
       "    .dataframe thead th {\n",
       "        text-align: left;\n",
       "    }\n",
       "\n",
       "    .dataframe tbody tr th {\n",
       "        vertical-align: top;\n",
       "    }\n",
       "</style>\n",
       "<table border=\"1\" class=\"dataframe\">\n",
       "  <thead>\n",
       "    <tr style=\"text-align: right;\">\n",
       "      <th></th>\n",
       "      <th>Cement</th>\n",
       "      <th>Blast_Furnace</th>\n",
       "      <th>Fly_Ash</th>\n",
       "      <th>Water</th>\n",
       "      <th>Superplasticizer</th>\n",
       "      <th>Coarse_Aggregate</th>\n",
       "      <th>Fine_Aggregate</th>\n",
       "      <th>Age</th>\n",
       "      <th>compressive_strength</th>\n",
       "    </tr>\n",
       "  </thead>\n",
       "  <tbody>\n",
       "    <tr>\n",
       "      <th>0</th>\n",
       "      <td>540.0</td>\n",
       "      <td>0.0</td>\n",
       "      <td>0.0</td>\n",
       "      <td>162.0</td>\n",
       "      <td>2.5</td>\n",
       "      <td>1040.0</td>\n",
       "      <td>676.0</td>\n",
       "      <td>28</td>\n",
       "      <td>79.986111</td>\n",
       "    </tr>\n",
       "    <tr>\n",
       "      <th>1</th>\n",
       "      <td>540.0</td>\n",
       "      <td>0.0</td>\n",
       "      <td>0.0</td>\n",
       "      <td>162.0</td>\n",
       "      <td>2.5</td>\n",
       "      <td>1055.0</td>\n",
       "      <td>676.0</td>\n",
       "      <td>28</td>\n",
       "      <td>61.887366</td>\n",
       "    </tr>\n",
       "    <tr>\n",
       "      <th>2</th>\n",
       "      <td>332.5</td>\n",
       "      <td>142.5</td>\n",
       "      <td>0.0</td>\n",
       "      <td>228.0</td>\n",
       "      <td>0.0</td>\n",
       "      <td>932.0</td>\n",
       "      <td>594.0</td>\n",
       "      <td>270</td>\n",
       "      <td>40.269535</td>\n",
       "    </tr>\n",
       "    <tr>\n",
       "      <th>3</th>\n",
       "      <td>332.5</td>\n",
       "      <td>142.5</td>\n",
       "      <td>0.0</td>\n",
       "      <td>228.0</td>\n",
       "      <td>0.0</td>\n",
       "      <td>932.0</td>\n",
       "      <td>594.0</td>\n",
       "      <td>365</td>\n",
       "      <td>41.052780</td>\n",
       "    </tr>\n",
       "    <tr>\n",
       "      <th>4</th>\n",
       "      <td>198.6</td>\n",
       "      <td>132.4</td>\n",
       "      <td>0.0</td>\n",
       "      <td>192.0</td>\n",
       "      <td>0.0</td>\n",
       "      <td>978.4</td>\n",
       "      <td>825.5</td>\n",
       "      <td>360</td>\n",
       "      <td>44.296075</td>\n",
       "    </tr>\n",
       "  </tbody>\n",
       "</table>\n",
       "</div>"
      ],
      "text/plain": [
       "   Cement  Blast_Furnace  Fly_Ash  Water  Superplasticizer  Coarse_Aggregate  \\\n",
       "0   540.0            0.0      0.0  162.0               2.5            1040.0   \n",
       "1   540.0            0.0      0.0  162.0               2.5            1055.0   \n",
       "2   332.5          142.5      0.0  228.0               0.0             932.0   \n",
       "3   332.5          142.5      0.0  228.0               0.0             932.0   \n",
       "4   198.6          132.4      0.0  192.0               0.0             978.4   \n",
       "\n",
       "   Fine_Aggregate  Age  compressive_strength  \n",
       "0           676.0   28             79.986111  \n",
       "1           676.0   28             61.887366  \n",
       "2           594.0  270             40.269535  \n",
       "3           594.0  365             41.052780  \n",
       "4           825.5  360             44.296075  "
      ]
     },
     "execution_count": 5,
     "metadata": {},
     "output_type": "execute_result"
    }
   ],
   "source": [
    "data = pd.read_excel(url,names=names)\n",
    "data.head()"
   ]
  },
  {
   "cell_type": "code",
   "execution_count": 6,
   "metadata": {},
   "outputs": [
    {
     "data": {
      "text/plain": [
       "(1030, 9)"
      ]
     },
     "execution_count": 6,
     "metadata": {},
     "output_type": "execute_result"
    }
   ],
   "source": [
    "data.shape"
   ]
  },
  {
   "cell_type": "code",
   "execution_count": 7,
   "metadata": {},
   "outputs": [
    {
     "data": {
      "text/html": [
       "<div>\n",
       "<style>\n",
       "    .dataframe thead tr:only-child th {\n",
       "        text-align: right;\n",
       "    }\n",
       "\n",
       "    .dataframe thead th {\n",
       "        text-align: left;\n",
       "    }\n",
       "\n",
       "    .dataframe tbody tr th {\n",
       "        vertical-align: top;\n",
       "    }\n",
       "</style>\n",
       "<table border=\"1\" class=\"dataframe\">\n",
       "  <thead>\n",
       "    <tr style=\"text-align: right;\">\n",
       "      <th></th>\n",
       "      <th>Cement</th>\n",
       "      <th>Blast_Furnace</th>\n",
       "      <th>Fly_Ash</th>\n",
       "      <th>Water</th>\n",
       "      <th>Superplasticizer</th>\n",
       "      <th>Coarse_Aggregate</th>\n",
       "      <th>Fine_Aggregate</th>\n",
       "      <th>Age</th>\n",
       "      <th>compressive_strength</th>\n",
       "    </tr>\n",
       "  </thead>\n",
       "  <tbody>\n",
       "    <tr>\n",
       "      <th>count</th>\n",
       "      <td>1030.000000</td>\n",
       "      <td>1030.000000</td>\n",
       "      <td>1030.000000</td>\n",
       "      <td>1030.000000</td>\n",
       "      <td>1030.000000</td>\n",
       "      <td>1030.000000</td>\n",
       "      <td>1030.000000</td>\n",
       "      <td>1030.000000</td>\n",
       "      <td>1030.000000</td>\n",
       "    </tr>\n",
       "    <tr>\n",
       "      <th>mean</th>\n",
       "      <td>281.165631</td>\n",
       "      <td>73.895485</td>\n",
       "      <td>54.187136</td>\n",
       "      <td>181.566359</td>\n",
       "      <td>6.203112</td>\n",
       "      <td>972.918592</td>\n",
       "      <td>773.578883</td>\n",
       "      <td>45.662136</td>\n",
       "      <td>35.817836</td>\n",
       "    </tr>\n",
       "    <tr>\n",
       "      <th>std</th>\n",
       "      <td>104.507142</td>\n",
       "      <td>86.279104</td>\n",
       "      <td>63.996469</td>\n",
       "      <td>21.355567</td>\n",
       "      <td>5.973492</td>\n",
       "      <td>77.753818</td>\n",
       "      <td>80.175427</td>\n",
       "      <td>63.169912</td>\n",
       "      <td>16.705679</td>\n",
       "    </tr>\n",
       "    <tr>\n",
       "      <th>min</th>\n",
       "      <td>102.000000</td>\n",
       "      <td>0.000000</td>\n",
       "      <td>0.000000</td>\n",
       "      <td>121.750000</td>\n",
       "      <td>0.000000</td>\n",
       "      <td>801.000000</td>\n",
       "      <td>594.000000</td>\n",
       "      <td>1.000000</td>\n",
       "      <td>2.331808</td>\n",
       "    </tr>\n",
       "    <tr>\n",
       "      <th>25%</th>\n",
       "      <td>192.375000</td>\n",
       "      <td>0.000000</td>\n",
       "      <td>0.000000</td>\n",
       "      <td>164.900000</td>\n",
       "      <td>0.000000</td>\n",
       "      <td>932.000000</td>\n",
       "      <td>730.950000</td>\n",
       "      <td>7.000000</td>\n",
       "      <td>23.707115</td>\n",
       "    </tr>\n",
       "    <tr>\n",
       "      <th>50%</th>\n",
       "      <td>272.900000</td>\n",
       "      <td>22.000000</td>\n",
       "      <td>0.000000</td>\n",
       "      <td>185.000000</td>\n",
       "      <td>6.350000</td>\n",
       "      <td>968.000000</td>\n",
       "      <td>779.510000</td>\n",
       "      <td>28.000000</td>\n",
       "      <td>34.442774</td>\n",
       "    </tr>\n",
       "    <tr>\n",
       "      <th>75%</th>\n",
       "      <td>350.000000</td>\n",
       "      <td>142.950000</td>\n",
       "      <td>118.270000</td>\n",
       "      <td>192.000000</td>\n",
       "      <td>10.160000</td>\n",
       "      <td>1029.400000</td>\n",
       "      <td>824.000000</td>\n",
       "      <td>56.000000</td>\n",
       "      <td>46.136287</td>\n",
       "    </tr>\n",
       "    <tr>\n",
       "      <th>max</th>\n",
       "      <td>540.000000</td>\n",
       "      <td>359.400000</td>\n",
       "      <td>200.100000</td>\n",
       "      <td>247.000000</td>\n",
       "      <td>32.200000</td>\n",
       "      <td>1145.000000</td>\n",
       "      <td>992.600000</td>\n",
       "      <td>365.000000</td>\n",
       "      <td>82.599225</td>\n",
       "    </tr>\n",
       "  </tbody>\n",
       "</table>\n",
       "</div>"
      ],
      "text/plain": [
       "            Cement  Blast_Furnace      Fly_Ash        Water  Superplasticizer  \\\n",
       "count  1030.000000    1030.000000  1030.000000  1030.000000       1030.000000   \n",
       "mean    281.165631      73.895485    54.187136   181.566359          6.203112   \n",
       "std     104.507142      86.279104    63.996469    21.355567          5.973492   \n",
       "min     102.000000       0.000000     0.000000   121.750000          0.000000   \n",
       "25%     192.375000       0.000000     0.000000   164.900000          0.000000   \n",
       "50%     272.900000      22.000000     0.000000   185.000000          6.350000   \n",
       "75%     350.000000     142.950000   118.270000   192.000000         10.160000   \n",
       "max     540.000000     359.400000   200.100000   247.000000         32.200000   \n",
       "\n",
       "       Coarse_Aggregate  Fine_Aggregate          Age  compressive_strength  \n",
       "count       1030.000000     1030.000000  1030.000000           1030.000000  \n",
       "mean         972.918592      773.578883    45.662136             35.817836  \n",
       "std           77.753818       80.175427    63.169912             16.705679  \n",
       "min          801.000000      594.000000     1.000000              2.331808  \n",
       "25%          932.000000      730.950000     7.000000             23.707115  \n",
       "50%          968.000000      779.510000    28.000000             34.442774  \n",
       "75%         1029.400000      824.000000    56.000000             46.136287  \n",
       "max         1145.000000      992.600000   365.000000             82.599225  "
      ]
     },
     "execution_count": 7,
     "metadata": {},
     "output_type": "execute_result"
    }
   ],
   "source": [
    "# Step 1 Lets analyze data\n",
    "data.describe()"
   ]
  },
  {
   "cell_type": "code",
   "execution_count": 8,
   "metadata": {
    "collapsed": true
   },
   "outputs": [],
   "source": [
    "# Step 2 -Lets run Linear regression from stats model library\n",
    "import statsmodels.regression.linear_model as sm"
   ]
  },
  {
   "cell_type": "code",
   "execution_count": null,
   "metadata": {
    "collapsed": true
   },
   "outputs": [],
   "source": []
  },
  {
   "cell_type": "code",
   "execution_count": 9,
   "metadata": {
    "collapsed": true
   },
   "outputs": [],
   "source": [
    "x2=data[['Cement', 'Blast_Furnace','Fly_Ash','Water','Superplasticizer','Coarse_Aggregate','Fine_Aggregate','Age']]\n",
    "y2=data[['compressive_strength']]"
   ]
  },
  {
   "cell_type": "code",
   "execution_count": 10,
   "metadata": {
    "collapsed": true
   },
   "outputs": [],
   "source": [
    "x2c = sm.add_constant(x2)#Stats model does not fit intercept by default\n",
    "step2model=sm.OLS(y2,x2c)\n",
    "step2result = step2model.fit()"
   ]
  },
  {
   "cell_type": "code",
   "execution_count": null,
   "metadata": {
    "collapsed": true
   },
   "outputs": [],
   "source": []
  },
  {
   "cell_type": "code",
   "execution_count": 11,
   "metadata": {},
   "outputs": [
    {
     "name": "stdout",
     "output_type": "stream",
     "text": [
      "                             OLS Regression Results                             \n",
      "================================================================================\n",
      "Dep. Variable:     compressive_strength   R-squared:                       0.615\n",
      "Model:                              OLS   Adj. R-squared:                  0.612\n",
      "Method:                   Least Squares   F-statistic:                     204.3\n",
      "Date:                  Fri, 16 Feb 2018   Prob (F-statistic):          6.76e-206\n",
      "Time:                          17:09:36   Log-Likelihood:                -3869.0\n",
      "No. Observations:                  1030   AIC:                             7756.\n",
      "Df Residuals:                      1021   BIC:                             7800.\n",
      "Df Model:                             8                                         \n",
      "Covariance Type:              nonrobust                                         \n",
      "====================================================================================\n",
      "                       coef    std err          t      P>|t|      [0.025      0.975]\n",
      "------------------------------------------------------------------------------------\n",
      "const              -23.1638     26.588     -0.871      0.384     -75.338      29.010\n",
      "Cement               0.1198      0.008     14.110      0.000       0.103       0.136\n",
      "Blast_Furnace        0.1038      0.010     10.245      0.000       0.084       0.124\n",
      "Fly_Ash              0.0879      0.013      6.988      0.000       0.063       0.113\n",
      "Water               -0.1503      0.040     -3.741      0.000      -0.229      -0.071\n",
      "Superplasticizer     0.2907      0.093      3.110      0.002       0.107       0.474\n",
      "Coarse_Aggregate     0.0180      0.009      1.919      0.055      -0.000       0.036\n",
      "Fine_Aggregate       0.0202      0.011      1.883      0.060      -0.001       0.041\n",
      "Age                  0.1142      0.005     21.046      0.000       0.104       0.125\n",
      "==============================================================================\n",
      "Omnibus:                        5.379   Durbin-Watson:                   1.281\n",
      "Prob(Omnibus):                  0.068   Jarque-Bera (JB):                5.305\n",
      "Skew:                          -0.174   Prob(JB):                       0.0705\n",
      "Kurtosis:                       3.045   Cond. No.                     1.06e+05\n",
      "==============================================================================\n",
      "\n",
      "Warnings:\n",
      "[1] Standard Errors assume that the covariance matrix of the errors is correctly specified.\n",
      "[2] The condition number is large, 1.06e+05. This might indicate that there are\n",
      "strong multicollinearity or other numerical problems.\n"
     ]
    }
   ],
   "source": [
    "print(step2result.summary())"
   ]
  },
  {
   "cell_type": "markdown",
   "metadata": {},
   "source": [
    "Lets understand result summary of step-2\n",
    "1)step1result R-Squared is low,\n",
    "2)Global F test is significant,\n",
    "3)Durbin-Watson statistic shows +ve autocorrelation between error,\n",
    "4)Partial t test for Intercept,Coarse_Aggregate,Fine_Aggregateis insignificant,\n"
   ]
  },
  {
   "cell_type": "code",
   "execution_count": 12,
   "metadata": {
    "collapsed": true
   },
   "outputs": [],
   "source": [
    "#  Lets build a function to calculate Variance Inflation Factor (VIF) \n",
    "def vif_cal(input_data):\n",
    "    x_vars=input_data\n",
    "    xvar_names=x_vars.columns\n",
    "    for i in range(0,xvar_names.shape[0]):\n",
    "        y=x_vars[xvar_names[i]] \n",
    "        x=x_vars[xvar_names.drop(xvar_names[i])]\n",
    "        x = sm.add_constant(x)\n",
    "        rsq=sm.OLS(y,x).fit().rsquared  \n",
    "        vif=round(1/(1-rsq),2)\n",
    "        print (xvar_names[i] ,\" VIF = \" , vif)"
   ]
  },
  {
   "cell_type": "code",
   "execution_count": 13,
   "metadata": {},
   "outputs": [
    {
     "name": "stdout",
     "output_type": "stream",
     "text": [
      "Cement  VIF =  7.49\n",
      "Blast_Furnace  VIF =  7.28\n",
      "Fly_Ash  VIF =  6.17\n",
      "Water  VIF =  7.0\n",
      "Superplasticizer  VIF =  2.97\n",
      "Coarse_Aggregate  VIF =  5.08\n",
      "Fine_Aggregate  VIF =  7.01\n",
      "Age  VIF =  1.12\n"
     ]
    }
   ],
   "source": [
    "vif_cal(x2)"
   ]
  },
  {
   "cell_type": "markdown",
   "metadata": {},
   "source": [
    "VIF is greater than 5 shows multicollinearity exists in data"
   ]
  },
  {
   "cell_type": "code",
   "execution_count": 14,
   "metadata": {
    "collapsed": true
   },
   "outputs": [],
   "source": [
    "import matplotlib.pyplot as plt\n",
    "import numpy as np"
   ]
  },
  {
   "cell_type": "code",
   "execution_count": 15,
   "metadata": {
    "collapsed": true
   },
   "outputs": [],
   "source": [
    "y_hat2=step2result.predict(x2c)\n",
    "df_yhat2=pd.DataFrame(y_hat2)\n",
    "df_y2=pd.DataFrame(y2)\n",
    "e2=(df_yhat2).values-(df_y2).values"
   ]
  },
  {
   "cell_type": "code",
   "execution_count": 16,
   "metadata": {},
   "outputs": [
    {
     "data": {
      "image/png": "[encoded data removed]",
      "text/plain": [
       "<matplotlib.figure.Figure at 0x6970fd0>"
      ]
     },
     "metadata": {},
     "output_type": "display_data"
    }
   ],
   "source": [
    "# Create Residual plot (e Vs y_hat)\n",
    "d = pd.DataFrame(np.zeros((80,1)))\n",
    "plt.figure(figsize=(15,5))\n",
    "plt.scatter(df_yhat2,e2)\n",
    "plt.scatter(range(0,80),d,c='k',marker='_')\n",
    "plt.show()"
   ]
  },
  {
   "cell_type": "markdown",
   "metadata": {
    "collapsed": true
   },
   "source": [
    "Density of plot varies from left to right. Which indicate non constant variance.   "
   ]
  },
  {
   "cell_type": "code",
   "execution_count": 17,
   "metadata": {},
   "outputs": [
    {
     "data": {
      "image/png": "[encoded data removed]",
      "text/plain": [
       "<matplotlib.figure.Figure at 0x8ead5b0>"
      ]
     },
     "metadata": {},
     "output_type": "display_data"
    }
   ],
   "source": [
    "# Lets plot histogram of residuals\n",
    "e_2=pd.DataFrame(e2)\n",
    "e_2.hist(bins=50)\n",
    "plt.show()"
   ]
  },
  {
   "cell_type": "markdown",
   "metadata": {},
   "source": [
    "This histogram looks like bimodal which is not normal"
   ]
  },
  {
   "cell_type": "code",
   "execution_count": 18,
   "metadata": {},
   "outputs": [
    {
     "data": {
      "text/plain": [
       "(0.9953229427337646, 0.002990775741636753)"
      ]
     },
     "execution_count": 18,
     "metadata": {},
     "output_type": "execute_result"
    }
   ],
   "source": [
    "import scipy\n",
    "scipy.stats.shapiro(e2)\n",
    "# Normality test with p 0.0029 shows same"
   ]
  },
  {
   "cell_type": "code",
   "execution_count": null,
   "metadata": {
    "collapsed": true
   },
   "outputs": [],
   "source": []
  },
  {
   "cell_type": "markdown",
   "metadata": {},
   "source": [
    "Lets remove variables which were in significant in partial t test. \n",
    "That will exclude Coarse_Aggregate,Fine_Aggregate,Intercept and re run model."
   ]
  },
  {
   "cell_type": "markdown",
   "metadata": {
    "collapsed": true
   },
   "source": [
    "Lets calculate Mahalonobis Distance (MD) which is to detect multivariate data outliers"
   ]
  },
  {
   "cell_type": "code",
   "execution_count": null,
   "metadata": {
    "collapsed": true
   },
   "outputs": [],
   "source": []
  },
  {
   "cell_type": "code",
   "execution_count": 19,
   "metadata": {
    "collapsed": true
   },
   "outputs": [],
   "source": [
    "# Again there is no stadard fucntion to calculate MD. Lets build one\n",
    "def MD_cal(input_data):\n",
    "    mu=input_data.mean().values\n",
    "    import numpy as np\n",
    "    covmx = input_data.cov()\n",
    "    invcovmx = np.linalg.inv(covmx)\n",
    "    x_vars=input_data\n",
    "    xvar_names=x_vars.columns\n",
    "    ys=x_vars[xvar_names].values.tolist()\n",
    "    \n",
    "   \n",
    "    md = []\n",
    "    for i in range(0,1029):\n",
    "        md.append(np.dot(np.dot((ys[i]-mu),invcovmx),(ys[i]-mu).T))\n",
    "    return md\n",
    "        "
   ]
  },
  {
   "cell_type": "code",
   "execution_count": 20,
   "metadata": {
    "collapsed": true
   },
   "outputs": [],
   "source": [
    "x2_MD=x2.copy()"
   ]
  },
  {
   "cell_type": "code",
   "execution_count": 21,
   "metadata": {
    "collapsed": true
   },
   "outputs": [],
   "source": [
    "x2_MD['MD']=pd.DataFrame(MD_cal(x2))"
   ]
  },
  {
   "cell_type": "code",
   "execution_count": 22,
   "metadata": {},
   "outputs": [
    {
     "data": {
      "text/html": [
       "<div>\n",
       "<style>\n",
       "    .dataframe thead tr:only-child th {\n",
       "        text-align: right;\n",
       "    }\n",
       "\n",
       "    .dataframe thead th {\n",
       "        text-align: left;\n",
       "    }\n",
       "\n",
       "    .dataframe tbody tr th {\n",
       "        vertical-align: top;\n",
       "    }\n",
       "</style>\n",
       "<table border=\"1\" class=\"dataframe\">\n",
       "  <thead>\n",
       "    <tr style=\"text-align: right;\">\n",
       "      <th></th>\n",
       "      <th>Cement</th>\n",
       "      <th>Blast_Furnace</th>\n",
       "      <th>Fly_Ash</th>\n",
       "      <th>Water</th>\n",
       "      <th>Superplasticizer</th>\n",
       "      <th>Coarse_Aggregate</th>\n",
       "      <th>Fine_Aggregate</th>\n",
       "      <th>Age</th>\n",
       "      <th>MD</th>\n",
       "    </tr>\n",
       "  </thead>\n",
       "  <tbody>\n",
       "    <tr>\n",
       "      <th>0</th>\n",
       "      <td>540.0</td>\n",
       "      <td>0.0</td>\n",
       "      <td>0.0</td>\n",
       "      <td>162.0</td>\n",
       "      <td>2.5</td>\n",
       "      <td>1040.0</td>\n",
       "      <td>676.0</td>\n",
       "      <td>28</td>\n",
       "      <td>13.075513</td>\n",
       "    </tr>\n",
       "    <tr>\n",
       "      <th>1</th>\n",
       "      <td>540.0</td>\n",
       "      <td>0.0</td>\n",
       "      <td>0.0</td>\n",
       "      <td>162.0</td>\n",
       "      <td>2.5</td>\n",
       "      <td>1055.0</td>\n",
       "      <td>676.0</td>\n",
       "      <td>28</td>\n",
       "      <td>12.275470</td>\n",
       "    </tr>\n",
       "    <tr>\n",
       "      <th>2</th>\n",
       "      <td>332.5</td>\n",
       "      <td>142.5</td>\n",
       "      <td>0.0</td>\n",
       "      <td>228.0</td>\n",
       "      <td>0.0</td>\n",
       "      <td>932.0</td>\n",
       "      <td>594.0</td>\n",
       "      <td>270</td>\n",
       "      <td>16.505354</td>\n",
       "    </tr>\n",
       "    <tr>\n",
       "      <th>3</th>\n",
       "      <td>332.5</td>\n",
       "      <td>142.5</td>\n",
       "      <td>0.0</td>\n",
       "      <td>228.0</td>\n",
       "      <td>0.0</td>\n",
       "      <td>932.0</td>\n",
       "      <td>594.0</td>\n",
       "      <td>365</td>\n",
       "      <td>28.550092</td>\n",
       "    </tr>\n",
       "    <tr>\n",
       "      <th>4</th>\n",
       "      <td>198.6</td>\n",
       "      <td>132.4</td>\n",
       "      <td>0.0</td>\n",
       "      <td>192.0</td>\n",
       "      <td>0.0</td>\n",
       "      <td>978.4</td>\n",
       "      <td>825.5</td>\n",
       "      <td>360</td>\n",
       "      <td>30.456028</td>\n",
       "    </tr>\n",
       "  </tbody>\n",
       "</table>\n",
       "</div>"
      ],
      "text/plain": [
       "   Cement  Blast_Furnace  Fly_Ash  Water  Superplasticizer  Coarse_Aggregate  \\\n",
       "0   540.0            0.0      0.0  162.0               2.5            1040.0   \n",
       "1   540.0            0.0      0.0  162.0               2.5            1055.0   \n",
       "2   332.5          142.5      0.0  228.0               0.0             932.0   \n",
       "3   332.5          142.5      0.0  228.0               0.0             932.0   \n",
       "4   198.6          132.4      0.0  192.0               0.0             978.4   \n",
       "\n",
       "   Fine_Aggregate  Age         MD  \n",
       "0           676.0   28  13.075513  \n",
       "1           676.0   28  12.275470  \n",
       "2           594.0  270  16.505354  \n",
       "3           594.0  365  28.550092  \n",
       "4           825.5  360  30.456028  "
      ]
     },
     "execution_count": 22,
     "metadata": {},
     "output_type": "execute_result"
    }
   ],
   "source": [
    "x2_MD.head()"
   ]
  },
  {
   "cell_type": "markdown",
   "metadata": {},
   "source": [
    "As MD follows chisquare distribution critical value for 8 df is 26.13. so rows where MD>26.13 is multivariate outlier"
   ]
  },
  {
   "cell_type": "code",
   "execution_count": 23,
   "metadata": {
    "collapsed": true
   },
   "outputs": [],
   "source": [
    "# Lets remove variables which were insignificant from partial t test (Intercept,x6(Coarse_Aggregate),x7(Fine_Aggregate))\n",
    "x3=data[['Cement', 'Blast_Furnace','Fly_Ash','Water','Superplasticizer','Age']]\n",
    "y3=data[['compressive_strength']] # y3 and y2 are same"
   ]
  },
  {
   "cell_type": "code",
   "execution_count": 25,
   "metadata": {
    "collapsed": true
   },
   "outputs": [],
   "source": [
    "import statsmodels.regression.linear_model as sm\n",
    "step3model=sm.OLS(y3,x3)\n",
    "step3result = step3model.fit()"
   ]
  },
  {
   "cell_type": "code",
   "execution_count": 26,
   "metadata": {},
   "outputs": [
    {
     "name": "stdout",
     "output_type": "stream",
     "text": [
      "                             OLS Regression Results                             \n",
      "================================================================================\n",
      "Dep. Variable:     compressive_strength   R-squared:                       0.928\n",
      "Model:                              OLS   Adj. R-squared:                  0.927\n",
      "Method:                   Least Squares   F-statistic:                     2196.\n",
      "Date:                  Fri, 16 Feb 2018   Prob (F-statistic):               0.00\n",
      "Time:                          17:10:25   Log-Likelihood:                -3894.4\n",
      "No. Observations:                  1030   AIC:                             7801.\n",
      "Df Residuals:                      1024   BIC:                             7830.\n",
      "Df Model:                             6                                         \n",
      "Covariance Type:              nonrobust                                         \n",
      "====================================================================================\n",
      "                       coef    std err          t      P>|t|      [0.025      0.975]\n",
      "------------------------------------------------------------------------------------\n",
      "Cement               0.1135      0.004     27.215      0.000       0.105       0.122\n",
      "Blast_Furnace        0.0885      0.005     17.438      0.000       0.079       0.099\n",
      "Fly_Ash              0.0779      0.008     10.001      0.000       0.063       0.093\n",
      "Water               -0.0840      0.008    -10.077      0.000      -0.100      -0.068\n",
      "Superplasticizer     0.5228      0.076      6.921      0.000       0.375       0.671\n",
      "Age                  0.1085      0.005     19.801      0.000       0.098       0.119\n",
      "==============================================================================\n",
      "Omnibus:                        3.269   Durbin-Watson:                   1.268\n",
      "Prob(Omnibus):                  0.195   Jarque-Bera (JB):                3.128\n",
      "Skew:                          -0.126   Prob(JB):                        0.209\n",
      "Kurtosis:                       3.098   Cond. No.                         82.2\n",
      "==============================================================================\n",
      "\n",
      "Warnings:\n",
      "[1] Standard Errors assume that the covariance matrix of the errors is correctly specified.\n"
     ]
    }
   ],
   "source": [
    "print(step3result.summary())"
   ]
  },
  {
   "cell_type": "code",
   "execution_count": 27,
   "metadata": {},
   "outputs": [
    {
     "name": "stdout",
     "output_type": "stream",
     "text": [
      "Cement  VIF =  1.87\n",
      "Blast_Furnace  VIF =  1.75\n",
      "Fly_Ash  VIF =  2.33\n",
      "Water  VIF =  1.93\n",
      "Superplasticizer  VIF =  2.42\n",
      "Age  VIF =  1.11\n"
     ]
    }
   ],
   "source": [
    "vif_cal(x3)"
   ]
  },
  {
   "cell_type": "code",
   "execution_count": 28,
   "metadata": {
    "collapsed": true
   },
   "outputs": [],
   "source": [
    "y_hat3=step3result.predict(x3)\n",
    "df_yhat3=pd.DataFrame(y_hat3)\n",
    "df_y3=pd.DataFrame(y3)\n",
    "e3=(df_yhat3).values-(df_y3).values"
   ]
  },
  {
   "cell_type": "code",
   "execution_count": 29,
   "metadata": {},
   "outputs": [
    {
     "data": {
      "image/png": "[encoded data removed]",
      "text/plain": [
       "<matplotlib.figure.Figure at 0x8e204f0>"
      ]
     },
     "metadata": {},
     "output_type": "display_data"
    }
   ],
   "source": [
    "# Create Residual plot (e Vs y_hat)\n",
    "d = pd.DataFrame(np.zeros((80,1)))\n",
    "plt.figure(figsize=(15,5))\n",
    "plt.scatter(df_yhat3,e3)\n",
    "plt.scatter(range(0,80),d,c='k',marker='_')\n",
    "plt.show()"
   ]
  },
  {
   "cell_type": "markdown",
   "metadata": {},
   "source": [
    "1)Residual plot shows still there is non constant variance, 2) VIF calculation shows Multicollinearity has been taken care of"
   ]
  },
  {
   "cell_type": "code",
   "execution_count": 30,
   "metadata": {},
   "outputs": [
    {
     "data": {
      "image/png": "[encoded data removed]",
      "text/plain": [
       "<matplotlib.figure.Figure at 0x90002d0>"
      ]
     },
     "metadata": {},
     "output_type": "display_data"
    }
   ],
   "source": [
    "# Lets plot histogram of residuals\n",
    "e_3=pd.DataFrame(e3)\n",
    "e_3.hist(bins=50)\n",
    "plt.show()"
   ]
  },
  {
   "cell_type": "code",
   "execution_count": 31,
   "metadata": {},
   "outputs": [
    {
     "data": {
      "text/plain": [
       "(0.9970323443412781, 0.05251840129494667)"
      ]
     },
     "execution_count": 31,
     "metadata": {},
     "output_type": "execute_result"
    }
   ],
   "source": [
    "import scipy\n",
    "scipy.stats.shapiro(e3)\n",
    "# Normality test with p 0.052 shows error is normally distributed."
   ]
  },
  {
   "cell_type": "code",
   "execution_count": 32,
   "metadata": {},
   "outputs": [
    {
     "data": {
      "text/html": [
       "<div>\n",
       "<style>\n",
       "    .dataframe thead tr:only-child th {\n",
       "        text-align: right;\n",
       "    }\n",
       "\n",
       "    .dataframe thead th {\n",
       "        text-align: left;\n",
       "    }\n",
       "\n",
       "    .dataframe tbody tr th {\n",
       "        vertical-align: top;\n",
       "    }\n",
       "</style>\n",
       "<table border=\"1\" class=\"dataframe\">\n",
       "  <thead>\n",
       "    <tr style=\"text-align: right;\">\n",
       "      <th></th>\n",
       "      <th>Cement</th>\n",
       "      <th>Blast_Furnace</th>\n",
       "      <th>Fly_Ash</th>\n",
       "      <th>Water</th>\n",
       "      <th>Superplasticizer</th>\n",
       "      <th>Age</th>\n",
       "      <th>MD</th>\n",
       "    </tr>\n",
       "  </thead>\n",
       "  <tbody>\n",
       "    <tr>\n",
       "      <th>0</th>\n",
       "      <td>540.0</td>\n",
       "      <td>0.0</td>\n",
       "      <td>0.0</td>\n",
       "      <td>162.0</td>\n",
       "      <td>2.5</td>\n",
       "      <td>28</td>\n",
       "      <td>10.486780</td>\n",
       "    </tr>\n",
       "    <tr>\n",
       "      <th>1</th>\n",
       "      <td>540.0</td>\n",
       "      <td>0.0</td>\n",
       "      <td>0.0</td>\n",
       "      <td>162.0</td>\n",
       "      <td>2.5</td>\n",
       "      <td>28</td>\n",
       "      <td>10.486780</td>\n",
       "    </tr>\n",
       "    <tr>\n",
       "      <th>2</th>\n",
       "      <td>332.5</td>\n",
       "      <td>142.5</td>\n",
       "      <td>0.0</td>\n",
       "      <td>228.0</td>\n",
       "      <td>0.0</td>\n",
       "      <td>270</td>\n",
       "      <td>15.580728</td>\n",
       "    </tr>\n",
       "    <tr>\n",
       "      <th>3</th>\n",
       "      <td>332.5</td>\n",
       "      <td>142.5</td>\n",
       "      <td>0.0</td>\n",
       "      <td>228.0</td>\n",
       "      <td>0.0</td>\n",
       "      <td>365</td>\n",
       "      <td>27.894179</td>\n",
       "    </tr>\n",
       "    <tr>\n",
       "      <th>4</th>\n",
       "      <td>198.6</td>\n",
       "      <td>132.4</td>\n",
       "      <td>0.0</td>\n",
       "      <td>192.0</td>\n",
       "      <td>0.0</td>\n",
       "      <td>360</td>\n",
       "      <td>28.799159</td>\n",
       "    </tr>\n",
       "  </tbody>\n",
       "</table>\n",
       "</div>"
      ],
      "text/plain": [
       "   Cement  Blast_Furnace  Fly_Ash  Water  Superplasticizer  Age         MD\n",
       "0   540.0            0.0      0.0  162.0               2.5   28  10.486780\n",
       "1   540.0            0.0      0.0  162.0               2.5   28  10.486780\n",
       "2   332.5          142.5      0.0  228.0               0.0  270  15.580728\n",
       "3   332.5          142.5      0.0  228.0               0.0  365  27.894179\n",
       "4   198.6          132.4      0.0  192.0               0.0  360  28.799159"
      ]
     },
     "execution_count": 32,
     "metadata": {},
     "output_type": "execute_result"
    }
   ],
   "source": [
    "# Calculate MD for step 3 \n",
    "x3_MD=x3.copy()\n",
    "x3_MD['MD']=pd.DataFrame(MD_cal(x3))\n",
    "x3_MD.head()"
   ]
  },
  {
   "cell_type": "code",
   "execution_count": 33,
   "metadata": {},
   "outputs": [
    {
     "data": {
      "text/plain": [
       "32"
      ]
     },
     "execution_count": 33,
     "metadata": {},
     "output_type": "execute_result"
    }
   ],
   "source": [
    "((x3_MD[x3_MD.MD>22.46]).index.values).size\n",
    "# there are 32 rows which are outliers (where MD>22.46 from x3_MD)"
   ]
  },
  {
   "cell_type": "code",
   "execution_count": null,
   "metadata": {
    "collapsed": true
   },
   "outputs": [],
   "source": [
    "# delete rows where MD>22.46 from x3_MD"
   ]
  },
  {
   "cell_type": "code",
   "execution_count": 34,
   "metadata": {
    "collapsed": true
   },
   "outputs": [],
   "source": [
    "# Getting row numbers where MD>22.46\n",
    "x3_index=(x3_MD[x3_MD.MD>22.46]).index.values"
   ]
  },
  {
   "cell_type": "code",
   "execution_count": null,
   "metadata": {
    "collapsed": true
   },
   "outputs": [],
   "source": [
    "# x3_MD.drop(x3_MD[x3_MD.MD < 50].index, inplace=True)"
   ]
  },
  {
   "cell_type": "code",
   "execution_count": 35,
   "metadata": {},
   "outputs": [
    {
     "data": {
      "text/plain": [
       "array([  3,   4,   6,  17,  24,  30,  31,  34,  41,  42,  56,  66,  76,\n",
       "        79,  99, 102, 122, 125, 145, 148, 168, 171, 228, 604, 610, 616,\n",
       "       620, 622, 756, 769, 792, 814], dtype=int64)"
      ]
     },
     "execution_count": 35,
     "metadata": {},
     "output_type": "execute_result"
    }
   ],
   "source": [
    "x3_index"
   ]
  },
  {
   "cell_type": "code",
   "execution_count": 36,
   "metadata": {
    "collapsed": true
   },
   "outputs": [],
   "source": [
    "x4=x3.drop(x3.index[[x3_index]])"
   ]
  },
  {
   "cell_type": "code",
   "execution_count": 37,
   "metadata": {
    "collapsed": true
   },
   "outputs": [],
   "source": [
    "y4=y3.drop(y3.index[[x3_index]])"
   ]
  },
  {
   "cell_type": "code",
   "execution_count": 38,
   "metadata": {
    "collapsed": true
   },
   "outputs": [],
   "source": [
    "step4model=sm.OLS(y4,x4)\n",
    "step4result = step4model.fit()"
   ]
  },
  {
   "cell_type": "code",
   "execution_count": 39,
   "metadata": {},
   "outputs": [
    {
     "name": "stdout",
     "output_type": "stream",
     "text": [
      "                             OLS Regression Results                             \n",
      "================================================================================\n",
      "Dep. Variable:     compressive_strength   R-squared:                       0.937\n",
      "Model:                              OLS   Adj. R-squared:                  0.937\n",
      "Method:                   Least Squares   F-statistic:                     2464.\n",
      "Date:                  Fri, 16 Feb 2018   Prob (F-statistic):               0.00\n",
      "Time:                          17:13:29   Log-Likelihood:                -3696.1\n",
      "No. Observations:                   998   AIC:                             7404.\n",
      "Df Residuals:                       992   BIC:                             7434.\n",
      "Df Model:                             6                                         \n",
      "Covariance Type:              nonrobust                                         \n",
      "====================================================================================\n",
      "                       coef    std err          t      P>|t|      [0.025      0.975]\n",
      "------------------------------------------------------------------------------------\n",
      "Cement               0.1114      0.004     28.515      0.000       0.104       0.119\n",
      "Blast_Furnace        0.0847      0.005     17.576      0.000       0.075       0.094\n",
      "Fly_Ash              0.0660      0.008      8.701      0.000       0.051       0.081\n",
      "Water               -0.0911      0.008    -11.651      0.000      -0.106      -0.076\n",
      "Superplasticizer     0.6670      0.078      8.538      0.000       0.514       0.820\n",
      "Age                  0.1722      0.007     23.954      0.000       0.158       0.186\n",
      "==============================================================================\n",
      "Omnibus:                       22.839   Durbin-Watson:                   1.249\n",
      "Prob(Omnibus):                  0.000   Jarque-Bera (JB):               32.768\n",
      "Skew:                          -0.228   Prob(JB):                     7.66e-08\n",
      "Kurtosis:                       3.762   Cond. No.                         89.5\n",
      "==============================================================================\n",
      "\n",
      "Warnings:\n",
      "[1] Standard Errors assume that the covariance matrix of the errors is correctly specified.\n"
     ]
    }
   ],
   "source": [
    "print(step4result.summary())"
   ]
  },
  {
   "cell_type": "markdown",
   "metadata": {},
   "source": [
    "1)there is improvement in R square , 2) But still D-W test shows +ve autocorrelation"
   ]
  },
  {
   "cell_type": "code",
   "execution_count": 40,
   "metadata": {},
   "outputs": [
    {
     "name": "stdout",
     "output_type": "stream",
     "text": [
      "Cement  VIF =  1.79\n",
      "Blast_Furnace  VIF =  1.79\n",
      "Fly_Ash  VIF =  2.48\n",
      "Water  VIF =  1.87\n",
      "Superplasticizer  VIF =  2.51\n",
      "Age  VIF =  1.07\n"
     ]
    }
   ],
   "source": [
    "vif_cal(x4)"
   ]
  },
  {
   "cell_type": "code",
   "execution_count": 41,
   "metadata": {},
   "outputs": [
    {
     "data": {
      "image/png": "[encoded data removed]",
      "text/plain": [
       "<matplotlib.figure.Figure at 0x9223ed0>"
      ]
     },
     "metadata": {},
     "output_type": "display_data"
    }
   ],
   "source": [
    "# Residual plot step 4\n",
    "y_hat4=step4result.predict(x4)\n",
    "df_yhat4=pd.DataFrame(y_hat4)\n",
    "df_y4=pd.DataFrame(y4)\n",
    "e4=(df_yhat4).values-(df_y4).values\n",
    "# Create Residual plot (e Vs y_hat)\n",
    "d = pd.DataFrame(np.zeros((80,1)))\n",
    "plt.figure(figsize=(15,5))\n",
    "plt.scatter(df_yhat4,e4)\n",
    "plt.scatter(range(0,80),d,c='k',marker='_')\n",
    "plt.show()"
   ]
  },
  {
   "cell_type": "code",
   "execution_count": 42,
   "metadata": {},
   "outputs": [
    {
     "data": {
      "text/plain": [
       "(0.9922428727149963, 4.302328670746647e-05)"
      ]
     },
     "execution_count": 42,
     "metadata": {},
     "output_type": "execute_result"
    }
   ],
   "source": [
    "# P value is very small showing error distribution is not normal\n",
    "scipy.stats.shapiro(e4)"
   ]
  },
  {
   "cell_type": "code",
   "execution_count": 43,
   "metadata": {},
   "outputs": [
    {
     "data": {
      "image/png": "[encoded data removed]",
      "text/plain": [
       "<matplotlib.figure.Figure at 0x925ab10>"
      ]
     },
     "metadata": {},
     "output_type": "display_data"
    }
   ],
   "source": [
    "# Lets plot histogram of residuals\n",
    "e_4=pd.DataFrame(e4)\n",
    "e_4.hist(bins=50)\n",
    "plt.show()"
   ]
  },
  {
   "cell_type": "markdown",
   "metadata": {},
   "source": [
    "As Residual plot of step 4 shows non constant variance , Lets try with 1st order Autocorrelated Error."
   ]
  },
  {
   "cell_type": "code",
   "execution_count": 45,
   "metadata": {
    "collapsed": true
   },
   "outputs": [],
   "source": [
    "# Step 5\n",
    "x4_index=x4.index.values"
   ]
  },
  {
   "cell_type": "code",
   "execution_count": 101,
   "metadata": {
    "collapsed": true
   },
   "outputs": [],
   "source": [
    "# Lets delete 1st row of x5,y5 and Last row of error (e4_df) and then concatenate x5 and e4_df\n",
    "x5=x4.copy()\n",
    "y5=y4.copy()\n",
    "e4_df=pd.DataFrame(e4,index=x4_index,columns=['ax1'])\n",
    "e5_df=e4_df.copy()\n",
    "x5.drop(0,inplace=True)\n",
    "y5.drop(0,inplace=True)\n",
    "e5_df.drop(1029,inplace=True)"
   ]
  },
  {
   "cell_type": "code",
   "execution_count": null,
   "metadata": {
    "collapsed": true
   },
   "outputs": [],
   "source": []
  },
  {
   "cell_type": "code",
   "execution_count": 123,
   "metadata": {},
   "outputs": [],
   "source": [
    "# Adding e4_df as order 1 Autocorrelated errors to x4\n",
    "x51=x5.reset_index(drop=True)\n",
    "e51=e5_df.reset_index(drop=True)\n",
    "y51=y5.reset_index(drop=True)\n",
    "frames=[x51,e51]\n",
    "x5_new=pd.concat(frames,axis=1)"
   ]
  },
  {
   "cell_type": "code",
   "execution_count": 127,
   "metadata": {},
   "outputs": [],
   "source": [
    "step5model=sm.OLS(y51,x5_new)\n",
    "step5result = step5model.fit()"
   ]
  },
  {
   "cell_type": "code",
   "execution_count": 128,
   "metadata": {},
   "outputs": [
    {
     "name": "stdout",
     "output_type": "stream",
     "text": [
      "                             OLS Regression Results                             \n",
      "================================================================================\n",
      "Dep. Variable:     compressive_strength   R-squared:                       0.946\n",
      "Model:                              OLS   Adj. R-squared:                  0.946\n",
      "Method:                   Least Squares   F-statistic:                     2489.\n",
      "Date:                  Fri, 16 Feb 2018   Prob (F-statistic):               0.00\n",
      "Time:                          18:21:11   Log-Likelihood:                -3612.7\n",
      "No. Observations:                   997   AIC:                             7239.\n",
      "Df Residuals:                       990   BIC:                             7274.\n",
      "Df Model:                             7                                         \n",
      "Covariance Type:              nonrobust                                         \n",
      "====================================================================================\n",
      "                       coef    std err          t      P>|t|      [0.025      0.975]\n",
      "------------------------------------------------------------------------------------\n",
      "Cement               0.1097      0.004     30.275      0.000       0.103       0.117\n",
      "Blast_Furnace        0.0853      0.004     19.171      0.000       0.077       0.094\n",
      "Fly_Ash              0.0618      0.007      8.811      0.000       0.048       0.076\n",
      "Water               -0.0856      0.007    -11.818      0.000      -0.100      -0.071\n",
      "Superplasticizer     0.6530      0.072      9.037      0.000       0.511       0.795\n",
      "Age                  0.1644      0.007     24.650      0.000       0.151       0.177\n",
      "ax1                 -0.3779      0.030    -12.775      0.000      -0.436      -0.320\n",
      "==============================================================================\n",
      "Omnibus:                       26.851   Durbin-Watson:                   2.052\n",
      "Prob(Omnibus):                  0.000   Jarque-Bera (JB):               34.893\n",
      "Skew:                          -0.297   Prob(JB):                     2.65e-08\n",
      "Kurtosis:                       3.697   Cond. No.                         89.6\n",
      "==============================================================================\n",
      "\n",
      "Warnings:\n",
      "[1] Standard Errors assume that the covariance matrix of the errors is correctly specified.\n"
     ]
    }
   ],
   "source": [
    "print(step5result.summary())"
   ]
  },
  {
   "cell_type": "code",
   "execution_count": 129,
   "metadata": {},
   "outputs": [
    {
     "name": "stdout",
     "output_type": "stream",
     "text": [
      "Cement  VIF =  1.79\n",
      "Blast_Furnace  VIF =  1.79\n",
      "Fly_Ash  VIF =  2.48\n",
      "Water  VIF =  1.91\n",
      "Superplasticizer  VIF =  2.52\n",
      "Age  VIF =  1.08\n",
      "ax1  VIF =  1.04\n"
     ]
    }
   ],
   "source": [
    "vif_cal(x5_new)"
   ]
  },
  {
   "cell_type": "code",
   "execution_count": 135,
   "metadata": {},
   "outputs": [
    {
     "data": {
      "image/png": "[encoded data removed]",
      "text/plain": [
       "<matplotlib.figure.Figure at 0x91dfdf0>"
      ]
     },
     "metadata": {},
     "output_type": "display_data"
    }
   ],
   "source": [
    "# Residual plot step 5\n",
    "y_hat5=step5result.predict(x5_new)\n",
    "df_yhat5=pd.DataFrame(y_hat5)\n",
    "df_y5=pd.DataFrame(y51)\n",
    "e5=(df_yhat5).values-(df_y5).values\n",
    "# Create Residual plot (e Vs y_hat)\n",
    "d = pd.DataFrame(np.zeros((80,1)))\n",
    "plt.figure(figsize=(15,5))\n",
    "plt.scatter(df_yhat5,e5)\n",
    "plt.scatter(range(0,80),d,c='k',marker='_')\n",
    "plt.show()"
   ]
  },
  {
   "cell_type": "code",
   "execution_count": 136,
   "metadata": {},
   "outputs": [
    {
     "data": {
      "text/plain": [
       "(0.9914984107017517, 1.6522444639122114e-05)"
      ]
     },
     "execution_count": 136,
     "metadata": {},
     "output_type": "execute_result"
    }
   ],
   "source": []
  },
  {
   "cell_type": "code",
   "execution_count": 137,
   "metadata": {
    "collapsed": true
   },
   "outputs": [],
   "source": [
    "y51.to_csv('C:/Users/IBM_ADMIN/Downloads/y51.csv')\n",
    "x5_new.to_csv('C:/Users/IBM_ADMIN/Downloads/x51.csv')"
   ]
  },
  {
   "cell_type": "code",
   "execution_count": null,
   "metadata": {
    "collapsed": true
   },
   "outputs": [],
   "source": []
  },
  {
   "cell_type": "code",
   "execution_count": null,
   "metadata": {
    "collapsed": true
   },
   "outputs": [],
   "source": []
  },
  {
   "cell_type": "code",
   "execution_count": null,
   "metadata": {
    "collapsed": true
   },
   "outputs": [],
   "source": []
  }
 ],
 "metadata": {
  "kernelspec": {
   "display_name": "Python 3",
   "language": "python",
   "name": "python3"
  },
  "language_info": {
   "codemirror_mode": {
    "name": "ipython",
    "version": 3
   },
   "file_extension": ".py",
   "mimetype": "text/x-python",
   "name": "python",
   "nbconvert_exporter": "python",
   "pygments_lexer": "ipython3",
   "version": "3.6.1"
  }
 },
 "nbformat": 4,
 "nbformat_minor": 2
}
